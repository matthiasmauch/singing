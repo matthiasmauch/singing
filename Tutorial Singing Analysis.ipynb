{
 "cells": [
  {
   "cell_type": "markdown",
   "metadata": {},
   "source": [
    "## Intonation analysis example"
   ]
  },
  {
   "cell_type": "markdown",
   "metadata": {},
   "source": [
    "### Imports"
   ]
  },
  {
   "cell_type": "code",
   "execution_count": 1,
   "metadata": {
    "collapsed": true
   },
   "outputs": [],
   "source": [
    "# numpy and matplotlib-related\n",
    "import matplotlib\n",
    "import numpy as np\n",
    "import matplotlib.pyplot as plt\n",
    "import pandas as pd\n",
    "%matplotlib inline  "
   ]
  },
  {
   "cell_type": "code",
   "execution_count": 2,
   "metadata": {
    "collapsed": true
   },
   "outputs": [],
   "source": [
    "# other funky imports\n",
    "import bz2\n",
    "from xml.etree import ElementTree"
   ]
  },
  {
   "cell_type": "markdown",
   "metadata": {},
   "source": [
    "### Constants and helper functions"
   ]
  },
  {
   "cell_type": "code",
   "execution_count": 3,
   "metadata": {
    "collapsed": true
   },
   "outputs": [],
   "source": [
    "fs = 44100"
   ]
  },
  {
   "cell_type": "code",
   "execution_count": 6,
   "metadata": {
    "collapsed": true
   },
   "outputs": [],
   "source": [
    "def freq2pitch(f):\n",
    "    return 69.0 + 12.0 * np.log2(f*1.0/440.0)"
   ]
  },
  {
   "cell_type": "markdown",
   "metadata": {},
   "source": [
    "### Reference data\n",
    "This is just the equivalent of the score. We provide the nominal pitches of Happy Birthday in semitones, with one repeat."
   ]
  },
  {
   "cell_type": "code",
   "execution_count": 7,
   "metadata": {
    "collapsed": false
   },
   "outputs": [
    {
     "data": {
      "text/plain": [
       "[<matplotlib.lines.Line2D at 0x106b6efd0>]"
      ]
     },
     "execution_count": 7,
     "metadata": {},
     "output_type": "execute_result"
    },
    {
     "data": {
      "image/png": "[encoded data removed]",
      "text/plain": [
       "<matplotlib.figure.Figure at 0x1069b5ad0>"
      ]
     },
     "metadata": {},
     "output_type": "display_data"
    }
   ],
   "source": [
    "score_pitch = [-5,-5,-3,-5,0,-1,-5,-5,-3,-5,2,0,-5,-5,7,4,0,-1,-3,5,5,4,0,2,0]\n",
    "score_pitch.extend(score_pitch)\n",
    "score_int   = [np.nan]\n",
    "score_int = np.hstack([np.array([np.nan]), np.diff(score_pitch)])\n",
    "plt.plot(score_pitch, 'ko')"
   ]
  },
  {
   "cell_type": "markdown",
   "metadata": {},
   "source": [
    "### Import note data"
   ]
  },
  {
   "cell_type": "markdown",
   "metadata": {
    "collapsed": true
   },
   "source": [
    "## Slightly advanced importing"
   ]
  },
  {
   "cell_type": "code",
   "execution_count": 4,
   "metadata": {
    "collapsed": false
   },
   "outputs": [],
   "source": [
    "# functions to load data\n",
    "def decode_dataset(ds):\n",
    "    out = [dict(point.items()) for point in ds]\n",
    "    return out\n",
    "def load_pitch_from_ton(ton_fn):\n",
    "    f = bz2.BZ2File(ton_fn) # ton files are really xml hidden in bzip2 files!\n",
    "    data = ElementTree.parse(f)\n",
    "    note_ds, pitch_ds =  data.getroot().find('data').findall('dataset')\n",
    "    return decode_dataset(note_ds), decode_dataset(pitch_ds)"
   ]
  },
  {
   "cell_type": "code",
   "execution_count": 5,
   "metadata": {
    "collapsed": true
   },
   "outputs": [],
   "source": [
    "# functions to extract information from note dictionaries\n",
    "def get_pitch(notes):\n",
    "    return [freq2pitch(float(n['value'])) for n in notes]\n",
    "def get_onset(notes):\n",
    "    return [int(n['frame']) * 1.0 / fs for n in notes]\n",
    "def get_duration(notes):\n",
    "    return [int(n['duration']) * 1.0 / fs for n in notes]"
   ]
  },
  {
   "cell_type": "markdown",
   "metadata": {},
   "source": [
    "### Load and prepare singing data\n",
    "\n",
    "We're just going to import a couple of .ton files, each with 2 consecutive runs of Happy Birthday."
   ]
  },
  {
   "cell_type": "code",
   "execution_count": 8,
   "metadata": {
    "collapsed": false
   },
   "outputs": [],
   "source": [
    "notes1, pitches1 = load_pitch_from_ton(\"HappyBirthday_mm.ton\")\n",
    "notes2, pitches2 = load_pitch_from_ton(\"HappyBirthday_mm2.ton\")"
   ]
  },
  {
   "cell_type": "code",
   "execution_count": 9,
   "metadata": {
    "collapsed": false
   },
   "outputs": [],
   "source": [
    "fs = 44100\n",
    "\n",
    "note_p1 = get_pitch(notes1)\n",
    "note_t1 = get_onset(notes1)\n",
    "note_d1 = get_duration(notes1)\n",
    "note_i1 = np.hstack([np.array([np.nan]), np.diff(note_p1)])\n",
    "\n",
    "note_p2 = get_pitch(notes2)\n",
    "note_t2 = get_onset(notes2)\n",
    "note_d2 = get_duration(notes2)\n",
    "note_i2 = np.hstack([np.array([np.nan]), np.diff(note_p2)])"
   ]
  },
  {
   "cell_type": "code",
   "execution_count": 10,
   "metadata": {
    "collapsed": false
   },
   "outputs": [
    {
     "data": {
      "text/plain": [
       "[<matplotlib.lines.Line2D at 0x1064fb310>]"
      ]
     },
     "execution_count": 10,
     "metadata": {},
     "output_type": "execute_result"
    },
    {
     "data": {
      "image/png": "[encoded data removed]",
      "text/plain": [
       "<matplotlib.figure.Figure at 0x103bb0350>"
      ]
     },
     "metadata": {},
     "output_type": "display_data"
    }
   ],
   "source": [
    "len(note_i1)\n",
    "plt.plot(note_i1, note_i2, 'bo')"
   ]
  }
 ],
 "metadata": {
  "kernelspec": {
   "display_name": "Python 2",
   "language": "python",
   "name": "python2"
  },
  "language_info": {
   "codemirror_mode": {
    "name": "ipython",
    "version": 2
   },
   "file_extension": ".py",
   "mimetype": "text/x-python",
   "name": "python",
   "nbconvert_exporter": "python",
   "pygments_lexer": "ipython2",
   "version": "2.7.9"
  }
 },
 "nbformat": 4,
 "nbformat_minor": 0
}
